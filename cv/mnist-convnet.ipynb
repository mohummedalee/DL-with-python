{
 "cells": [
  {
   "cell_type": "code",
   "execution_count": 15,
   "id": "d8d5e0f2-7f7e-479a-a070-b2348eea19ca",
   "metadata": {},
   "outputs": [],
   "source": [
    "import keras\n",
    "from keras import layers\n",
    "from keras.datasets import mnist"
   ]
  },
  {
   "cell_type": "markdown",
   "id": "ccdf40de-dd3c-4c89-92eb-2dc2e8e2697a",
   "metadata": {},
   "source": [
    "Build model using the functional API in Keras."
   ]
  },
  {
   "cell_type": "code",
   "execution_count": 2,
   "id": "885f72d2-d7c3-4fa0-aa5b-9c0c808c4654",
   "metadata": {},
   "outputs": [],
   "source": [
    "inputs = layers.Input(shape=(28, 28, 1))  # image sizes from MNIST\n",
    "x = layers.Conv2D(filters=32, kernel_size=3, activation=\"relu\", name=\"convolution_1\")(inputs)\n",
    "x = layers.MaxPooling2D(pool_size=2, name=\"maxpool_1\")(x)\n",
    "x = layers.Conv2D(filters=64, kernel_size=3, activation=\"relu\", name=\"convolution_2\")(x)\n",
    "x = layers.MaxPooling2D(pool_size=2, name=\"maxpool_2\")(x)\n",
    "x = layers.Conv2D(filters=128, kernel_size=3, activation=\"relu\", name=\"convolution_3\")(x)\n",
    "x = layers.Flatten()(x)  # flatten for classification, this is a high level representation\n",
    "outputs = layers.Dense(10, activation=\"softmax\")(x)\n",
    "model = keras.Model(inputs=inputs, outputs=outputs)"
   ]
  },
  {
   "cell_type": "code",
   "execution_count": 3,
   "id": "86caf83a-2beb-4c71-a901-74b4c79acdef",
   "metadata": {},
   "outputs": [
    {
     "name": "stdout",
     "output_type": "stream",
     "text": [
      "Model: \"model\"\n",
      "_________________________________________________________________\n",
      " Layer (type)                Output Shape              Param #   \n",
      "=================================================================\n",
      " input_1 (InputLayer)        [(None, 28, 28, 1)]       0         \n",
      "                                                                 \n",
      " convolution_1 (Conv2D)      (None, 26, 26, 32)        320       \n",
      "                                                                 \n",
      " maxpool_1 (MaxPooling2D)    (None, 13, 13, 32)        0         \n",
      "                                                                 \n",
      " convolution_2 (Conv2D)      (None, 11, 11, 64)        18496     \n",
      "                                                                 \n",
      " maxpool_2 (MaxPooling2D)    (None, 5, 5, 64)          0         \n",
      "                                                                 \n",
      " convolution_3 (Conv2D)      (None, 3, 3, 128)         73856     \n",
      "                                                                 \n",
      " flatten (Flatten)           (None, 1152)              0         \n",
      "                                                                 \n",
      " dense (Dense)               (None, 10)                11530     \n",
      "                                                                 \n",
      "=================================================================\n",
      "Total params: 104,202\n",
      "Trainable params: 104,202\n",
      "Non-trainable params: 0\n",
      "_________________________________________________________________\n"
     ]
    }
   ],
   "source": [
    "model.summary()"
   ]
  },
  {
   "cell_type": "code",
   "execution_count": 10,
   "id": "61b308cb-9186-4e25-9cde-a197997c1702",
   "metadata": {},
   "outputs": [
    {
     "name": "stdout",
     "output_type": "stream",
     "text": [
      "(60000, 28, 28) (10000, 28, 28)\n"
     ]
    }
   ],
   "source": [
    "(train_images, train_labels), (test_images, test_labels) = mnist.load_data()\n",
    "print(train_images.shape, test_images.shape)\n",
    "\n",
    "train_images = train_images.reshape((60000, 28, 28, 1))\n",
    "train_images = train_images.astype(\"float32\") / 255\n",
    "test_images = test_images.reshape((10000, 28, 28, 1))\n",
    "test_images = test_images.astype(\"float32\") / 255"
   ]
  },
  {
   "cell_type": "code",
   "execution_count": 11,
   "id": "8b836cc9-056a-41dc-af92-e36612fafc08",
   "metadata": {},
   "outputs": [
    {
     "name": "stdout",
     "output_type": "stream",
     "text": [
      "Epoch 1/5\n"
     ]
    },
    {
     "name": "stderr",
     "output_type": "stream",
     "text": [
      "2024-04-27 22:10:08.115137: W tensorflow/tsl/platform/profile_utils/cpu_utils.cc:128] Failed to get CPU frequency: 0 Hz\n"
     ]
    },
    {
     "name": "stdout",
     "output_type": "stream",
     "text": [
      "938/938 [==============================] - 10s 10ms/step - loss: 0.1553 - accuracy: 0.9517\n",
      "Epoch 2/5\n",
      "938/938 [==============================] - 11s 11ms/step - loss: 0.0448 - accuracy: 0.9859\n",
      "Epoch 3/5\n",
      "938/938 [==============================] - 11s 12ms/step - loss: 0.0311 - accuracy: 0.9903\n",
      "Epoch 4/5\n",
      "938/938 [==============================] - 11s 12ms/step - loss: 0.0242 - accuracy: 0.9925\n",
      "Epoch 5/5\n",
      "938/938 [==============================] - 11s 11ms/step - loss: 0.0188 - accuracy: 0.9943\n"
     ]
    },
    {
     "data": {
      "text/plain": [
       "<keras.callbacks.History at 0x166b7baf0>"
      ]
     },
     "execution_count": 11,
     "metadata": {},
     "output_type": "execute_result"
    }
   ],
   "source": [
    "model.compile(\n",
    "    optimizer=\"rmsprop\",\n",
    "    loss=\"sparse_categorical_crossentropy\",\n",
    "    metrics=[\"accuracy\"]\n",
    ")\n",
    "model.fit(train_images, train_labels, epochs=5, batch_size=64)"
   ]
  },
  {
   "cell_type": "code",
   "execution_count": 13,
   "id": "4010787c-e2ce-4e01-ab12-e43bef236c96",
   "metadata": {},
   "outputs": [
    {
     "name": "stdout",
     "output_type": "stream",
     "text": [
      "313/313 [==============================] - 1s 4ms/step - loss: 0.0253 - accuracy: 0.9922\n",
      "Test accuracy: 0.992\n"
     ]
    }
   ],
   "source": [
    "test_loss, test_acc = model.evaluate(test_images, test_labels)\n",
    "print(f\"Test accuracy: {test_acc:.3f}\")"
   ]
  },
  {
   "cell_type": "code",
   "execution_count": null,
   "id": "32a1294c-a507-4ac0-bcab-3521ce2df85c",
   "metadata": {},
   "outputs": [],
   "source": []
  }
 ],
 "metadata": {
  "kernelspec": {
   "display_name": "dl-book",
   "language": "python",
   "name": "dl-book"
  },
  "language_info": {
   "codemirror_mode": {
    "name": "ipython",
    "version": 3
   },
   "file_extension": ".py",
   "mimetype": "text/x-python",
   "name": "python",
   "nbconvert_exporter": "python",
   "pygments_lexer": "ipython3",
   "version": "3.11.5"
  }
 },
 "nbformat": 4,
 "nbformat_minor": 5
}
