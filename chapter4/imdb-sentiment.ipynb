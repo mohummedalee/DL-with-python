{
 "cells": [
  {
   "cell_type": "code",
   "execution_count": 16,
   "id": "c987b49b-f580-4607-88ca-243b93ac04cb",
   "metadata": {},
   "outputs": [],
   "source": [
    "import numpy as np\n",
    "\n",
    "from tensorflow import keras\n",
    "from tensorflow.keras import layers\n",
    "from tensorflow.keras.datasets import imdb"
   ]
  },
  {
   "cell_type": "markdown",
   "id": "384003f9-32e2-47bf-b20e-3b0980d24063",
   "metadata": {},
   "source": [
    "### Preprocess IMDB data"
   ]
  },
  {
   "cell_type": "code",
   "execution_count": 6,
   "id": "0f130dbc-1857-431e-8125-3e56e4038f30",
   "metadata": {},
   "outputs": [
    {
     "name": "stdout",
     "output_type": "stream",
     "text": [
      "Downloading data from https://storage.googleapis.com/tensorflow/tf-keras-datasets/imdb.npz\n",
      "17464789/17464789 [==============================] - 1s 0us/step\n"
     ]
    }
   ],
   "source": [
    "(train_data, train_labels), (test_data, test_labels) = imdb.load_data(num_words=10000)"
   ]
  },
  {
   "cell_type": "code",
   "execution_count": 11,
   "id": "42e7aa65-bf14-4d7b-b4e3-56dd738d9485",
   "metadata": {},
   "outputs": [
    {
     "name": "stdout",
     "output_type": "stream",
     "text": [
      "25000 25000\n",
      "[1, 14, 22, 16, 43, 530, 973, 1622, 1385, 65, 458, 4468, 66, 3941, 4, 173, 36, 256, 5, 25, 100, 43, 838, 112, 50, 670, 2, 9, 35, 480, 284, 5, 150, 4, 172, 112, 167, 2, 336, 385, 39, 4, 172, 4536, 1111, 17, 546, 38, 13, 447, 4, 192, 50, 16, 6, 147, 2025, 19, 14, 22, 4, 1920, 4613, 469, 4, 22, 71, 87, 12, 16, 43, 530, 38, 76, 15, 13, 1247, 4, 22, 17, 515, 17, 12, 16, 626, 18, 2, 5, 62, 386, 12, 8, 316, 8, 106, 5, 4, 2223, 5244, 16, 480, 66, 3785, 33, 4, 130, 12, 16, 38, 619, 5, 25, 124, 51, 36, 135, 48, 25, 1415, 33, 6, 22, 12, 215, 28, 77, 52, 5, 14, 407, 16, 82, 2, 8, 4, 107, 117, 5952, 15, 256, 4, 2, 7, 3766, 5, 723, 36, 71, 43, 530, 476, 26, 400, 317, 46, 7, 4, 2, 1029, 13, 104, 88, 4, 381, 15, 297, 98, 32, 2071, 56, 26, 141, 6, 194, 7486, 18, 4, 226, 22, 21, 134, 476, 26, 480, 5, 144, 30, 5535, 18, 51, 36, 28, 224, 92, 25, 104, 4, 226, 65, 16, 38, 1334, 88, 12, 16, 283, 5, 16, 4472, 113, 103, 32, 15, 16, 5345, 19, 178, 32] 218\n"
     ]
    }
   ],
   "source": [
    "print(len(train_data), len(test_data))\n",
    "print(train_data[0], len(train_data[0]))"
   ]
  },
  {
   "cell_type": "code",
   "execution_count": 15,
   "id": "b5b419ab-f01d-4a3a-9e20-7c067439b1cf",
   "metadata": {},
   "outputs": [
    {
     "name": "stdout",
     "output_type": "stream",
     "text": [
      "the as you with out themselves powerful lets loves their becomes reaching had journalist of lot from anyone to have after out atmosphere never more room and it so heart shows to years of every never going and help moments or of every chest visual movie except her was several of enough more with is now current film as you of mine potentially unfortunately of you than him that with out themselves her get for was camp of you movie sometimes movie that with scary but and to story wonderful that in seeing in character to of 70s musicians with heart had shadows they of here that with her serious to have does when from why what have critics they is you that isn't one will very to as itself with other and in of seen over landed for anyone of and br show's to whether from than out themselves history he name half some br of and odd was two most of mean for 1 any an boat she he should is thought frog but of script you not while history he heart to real at barrel but when from one bit then have two of script their with her nobody most that with wasn't to with armed acting watch an for with heartfelt film want an\n"
     ]
    }
   ],
   "source": [
    "# trying to decode training data back to \n",
    "word_ids = imdb.get_word_index()  # map of word to ID\n",
    "reverse_word_index = dict([(v, k) for k, v in word_ids.items()])\n",
    "# decode first training point\n",
    "decoded_review = \" \".join(\n",
    "    [reverse_word_index.get(i, '?') for i in train_data[0]]\n",
    ")\n",
    "\n",
    "print(decoded_review)"
   ]
  },
  {
   "cell_type": "code",
   "execution_count": 20,
   "id": "f1b87674-1724-4222-b337-9d3d04c95c92",
   "metadata": {},
   "outputs": [],
   "source": [
    "# vectorize data\n",
    "def vectorize_sequences(sequences, dimensions=10000):\n",
    "    matrix = np.zeros((len(sequences), dimensions))\n",
    "    for i, sequence in enumerate(sequences):\n",
    "        for j in sequence:\n",
    "            matrix[i, j] = 1.0\n",
    "\n",
    "    return matrix\n",
    "\n",
    "X_train = vectorize_sequences(train_data)\n",
    "X_test = vectorize_sequences(test_data)"
   ]
  },
  {
   "cell_type": "code",
   "execution_count": 22,
   "id": "89d6d1e9-5645-43a7-a6fc-276b10a39972",
   "metadata": {},
   "outputs": [],
   "source": [
    "# separate a validation set -- first 10k/25k train points (40%)\n",
    "X_val = X_train[:10000]\n",
    "partial_X_train = X_train[10000:]\n",
    "y_val = train_labels[:10000]\n",
    "partial_y_train = train_labels[10000:]"
   ]
  },
  {
   "cell_type": "markdown",
   "id": "e857b409-5c71-4b67-9cd4-3b9ee4affe89",
   "metadata": {},
   "source": [
    "### Build model"
   ]
  },
  {
   "cell_type": "code",
   "execution_count": 24,
   "id": "3d105f59-e20b-440a-96a8-c8191ff69d11",
   "metadata": {},
   "outputs": [],
   "source": [
    "model = keras.Sequential([\n",
    "    layers.Dense(16, activation='relu'),\n",
    "    layers.Dense(16, activation='relu'),\n",
    "    layers.Dense(1, activation='sigmoid')\n",
    "])\n",
    "\n",
    "model.compile(\n",
    "    optimizer=\"rmsprop\",\n",
    "    loss=\"binary_crossentropy\",\n",
    "    metrics=[\"accuracy\"]\n",
    ")"
   ]
  },
  {
   "cell_type": "code",
   "execution_count": 25,
   "id": "623a9098-8c31-434a-9eb0-ae0847a5ad49",
   "metadata": {},
   "outputs": [
    {
     "name": "stdout",
     "output_type": "stream",
     "text": [
      "Epoch 1/20\n",
      "30/30 [==============================] - 1s 13ms/step - loss: 0.5325 - accuracy: 0.7851 - val_loss: 0.4095 - val_accuracy: 0.8652\n",
      "Epoch 2/20\n",
      "30/30 [==============================] - 0s 5ms/step - loss: 0.3278 - accuracy: 0.8986 - val_loss: 0.3486 - val_accuracy: 0.8606\n",
      "Epoch 3/20\n",
      "30/30 [==============================] - 0s 5ms/step - loss: 0.2425 - accuracy: 0.9219 - val_loss: 0.2959 - val_accuracy: 0.8829\n",
      "Epoch 4/20\n",
      "30/30 [==============================] - 0s 5ms/step - loss: 0.1882 - accuracy: 0.9404 - val_loss: 0.2761 - val_accuracy: 0.8905\n",
      "Epoch 5/20\n",
      "30/30 [==============================] - 0s 5ms/step - loss: 0.1538 - accuracy: 0.9493 - val_loss: 0.2909 - val_accuracy: 0.8857\n",
      "Epoch 6/20\n",
      "30/30 [==============================] - 0s 5ms/step - loss: 0.1246 - accuracy: 0.9623 - val_loss: 0.3125 - val_accuracy: 0.8770\n",
      "Epoch 7/20\n",
      "30/30 [==============================] - 0s 5ms/step - loss: 0.1066 - accuracy: 0.9683 - val_loss: 0.2980 - val_accuracy: 0.8843\n",
      "Epoch 8/20\n",
      "30/30 [==============================] - 0s 6ms/step - loss: 0.0845 - accuracy: 0.9768 - val_loss: 0.3275 - val_accuracy: 0.8793\n",
      "Epoch 9/20\n",
      "30/30 [==============================] - 0s 5ms/step - loss: 0.0693 - accuracy: 0.9812 - val_loss: 0.3506 - val_accuracy: 0.8750\n",
      "Epoch 10/20\n",
      "30/30 [==============================] - 0s 6ms/step - loss: 0.0551 - accuracy: 0.9868 - val_loss: 0.3637 - val_accuracy: 0.8804\n",
      "Epoch 11/20\n",
      "30/30 [==============================] - 0s 5ms/step - loss: 0.0438 - accuracy: 0.9902 - val_loss: 0.3856 - val_accuracy: 0.8783\n",
      "Epoch 12/20\n",
      "30/30 [==============================] - 0s 5ms/step - loss: 0.0333 - accuracy: 0.9933 - val_loss: 0.4241 - val_accuracy: 0.8774\n",
      "Epoch 13/20\n",
      "30/30 [==============================] - 0s 5ms/step - loss: 0.0264 - accuracy: 0.9950 - val_loss: 0.4496 - val_accuracy: 0.8752\n",
      "Epoch 14/20\n",
      "30/30 [==============================] - 0s 5ms/step - loss: 0.0189 - accuracy: 0.9970 - val_loss: 0.4894 - val_accuracy: 0.8704\n",
      "Epoch 15/20\n",
      "30/30 [==============================] - 0s 6ms/step - loss: 0.0158 - accuracy: 0.9973 - val_loss: 0.5172 - val_accuracy: 0.8726\n",
      "Epoch 16/20\n",
      "30/30 [==============================] - 0s 6ms/step - loss: 0.0086 - accuracy: 0.9995 - val_loss: 0.5658 - val_accuracy: 0.8712\n",
      "Epoch 17/20\n",
      "30/30 [==============================] - 0s 5ms/step - loss: 0.0108 - accuracy: 0.9983 - val_loss: 0.5897 - val_accuracy: 0.8720\n",
      "Epoch 18/20\n",
      "30/30 [==============================] - 0s 6ms/step - loss: 0.0043 - accuracy: 0.9999 - val_loss: 0.6195 - val_accuracy: 0.8701\n",
      "Epoch 19/20\n",
      "30/30 [==============================] - 0s 6ms/step - loss: 0.0060 - accuracy: 0.9988 - val_loss: 0.6534 - val_accuracy: 0.8694\n",
      "Epoch 20/20\n",
      "30/30 [==============================] - 0s 6ms/step - loss: 0.0024 - accuracy: 0.9999 - val_loss: 0.6909 - val_accuracy: 0.8682\n"
     ]
    }
   ],
   "source": [
    "history = model.fit(\n",
    "    partial_X_train,\n",
    "    partial_y_train,\n",
    "    epochs=20,\n",
    "    batch_size=512,\n",
    "    validation_data=(X_val, y_val)\n",
    ")"
   ]
  },
  {
   "cell_type": "code",
   "execution_count": 26,
   "id": "78329ee3-a190-47ae-a65f-bf60c6712155",
   "metadata": {},
   "outputs": [],
   "source": [
    "model.save('imdb-sentiment.keras')"
   ]
  },
  {
   "cell_type": "code",
   "execution_count": null,
   "id": "ac77248a-ce9a-4eab-a180-95c3ead0f6ca",
   "metadata": {},
   "outputs": [],
   "source": []
  }
 ],
 "metadata": {
  "kernelspec": {
   "display_name": "dl-book",
   "language": "python",
   "name": "dl-book"
  },
  "language_info": {
   "codemirror_mode": {
    "name": "ipython",
    "version": 3
   },
   "file_extension": ".py",
   "mimetype": "text/x-python",
   "name": "python",
   "nbconvert_exporter": "python",
   "pygments_lexer": "ipython3",
   "version": "3.11.5"
  }
 },
 "nbformat": 4,
 "nbformat_minor": 5
}
